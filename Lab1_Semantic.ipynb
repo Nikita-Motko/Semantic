{
 "cells": [
  {
   "cell_type": "code",
   "execution_count": 13,
   "metadata": {},
   "outputs": [],
   "source": [
    "from bs4 import BeautifulSoup\n",
    "import requests\n",
    "import lxml.html\n",
    "import xml.etree.ElementTree as ET\n",
    "from xml.dom import minidom"
   ]
  },
  {
   "cell_type": "code",
   "execution_count": 14,
   "metadata": {},
   "outputs": [
    {
     "name": "stdout",
     "output_type": "stream",
     "text": [
      "Red Dead Redemption 2 \n",
      " Жанр: action, adventure \n",
      " Дата выхода: 26 октября 2018 г. \n",
      " 9.1\n",
      "God of War (2018) \n",
      " Жанр: action \n",
      " Дата выхода: 20 апреля 2018 г. \n",
      " 9.1\n",
      "Resident Evil 2 Remake \n",
      " Жанр: action \n",
      " Дата выхода: 25 января 2019 г. \n",
      " 9.0\n",
      "Divinity: Original Sin 2 \n",
      " Жанр: rpg \n",
      " Дата выхода: 14 сентября 2017 г. \n",
      " 9.0\n",
      "Witcher 3: Wild Hunt - Complete Edition, The \n",
      " Жанр: rpg \n",
      " Дата выхода: 15 октября 2019 г. \n",
      " 9.0\n",
      "Black Mesa \n",
      " Жанр: action \n",
      " Дата выхода: 5 марта 2020 г. \n",
      " 8.9\n",
      "Divinity: Original Sin 2 - Definitive Edition \n",
      " Жанр: rpg \n",
      " Дата выхода: 14 сентября 2017 г. \n",
      " 8.8\n",
      "Ori and the Will of the Wisps \n",
      " Жанр: arcade \n",
      " Дата выхода: 11 марта 2020 г. \n",
      " 8.7\n",
      "Mount & Blade II: Bannerlord \n",
      " Жанр: action, rpg \n",
      " Дата выхода: 30 марта 2020 г. \n",
      " 8.6\n",
      "Prey (2017) \n",
      " Жанр: action \n",
      " Дата выхода: 5 мая 2017 г. \n",
      " 8.6\n"
     ]
    }
   ],
   "source": [
    "r = requests.get('https://stopgame.ru/topgames')\n",
    "html = BeautifulSoup(r.content, 'html.parser')\n",
    "i = 0\n",
    "for l in html.select('.game-block'):\n",
    "    if (i < 10):\n",
    "        name = l.select('.lent-title')\n",
    "        genre = l.select('.game-genre')\n",
    "        date = l.select('.game-date')\n",
    "        rating = l.select('.tag')\n",
    "        print(name[0].text,'\\n', genre[0].text, '\\n', date[0].text, '\\n', rating[0].text)\n",
    "        i = i+1\n",
    "def parser():\n",
    "    q=0\n",
    "    for j in html.select('.game-block'):\n",
    "        if (q < 10):\n",
    "            name = j.select('.lent-title')\n",
    "            genre = j.select('.game-genre')\n",
    "            date = j.select('.game-date')\n",
    "            rating = j.select('.tag')\n",
    "            All = ET.Element('all')\n",
    "            game = ET.SubElement(All, 'game')\n",
    "            Pname = ET.SubElement(game, 'name')\n",
    "            Pgenre = ET.SubElement(game, 'genre')\n",
    "            Pdate = ET.SubElement(game, 'date')\n",
    "            Prating = ET.SubElement(game, 'rating')\n",
    "            Pname.text = name[0].text\n",
    "            Pgenre.text = genre[0].text\n",
    "            Pdate.text = date[0].text\n",
    "            Prating.text = rating[0].text\n",
    "            save_xml('test.xml', All)\n",
    "            q = q+1"
   ]
  },
  {
   "cell_type": "code",
   "execution_count": 16,
   "metadata": {},
   "outputs": [],
   "source": [
    "def save_xml(filename, xml_code):\n",
    "    xml_string = ET.tostring(xml_code).decode()\n",
    "\n",
    "    xml_prettyxml = minidom.parseString(xml_string).toprettyxml()\n",
    "    with open(filename, 'a') as xml_file:\n",
    "        xml_file.write(xml_prettyxml)"
   ]
  },
  {
   "cell_type": "code",
   "execution_count": 17,
   "metadata": {},
   "outputs": [],
   "source": [
    "parser()"
   ]
  },
  {
   "cell_type": "code",
   "execution_count": null,
   "metadata": {},
   "outputs": [],
   "source": []
  },
  {
   "cell_type": "code",
   "execution_count": null,
   "metadata": {},
   "outputs": [],
   "source": []
  }
 ],
 "metadata": {
  "kernelspec": {
   "display_name": "Python 3",
   "language": "python",
   "name": "python3"
  },
  "language_info": {
   "codemirror_mode": {
    "name": "ipython",
    "version": 3
   },
   "file_extension": ".py",
   "mimetype": "text/x-python",
   "name": "python",
   "nbconvert_exporter": "python",
   "pygments_lexer": "ipython3",
   "version": "3.7.1"
  }
 },
 "nbformat": 4,
 "nbformat_minor": 2
}
